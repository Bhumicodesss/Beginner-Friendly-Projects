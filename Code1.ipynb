{
 "cells": [
  {
   "cell_type": "code",
   "execution_count": 1,
   "metadata": {},
   "outputs": [
    {
     "name": "stdout",
     "output_type": "stream",
     "text": [
      "1. Add task\n",
      "2. View tasks\n",
      "3. Save tasks to file\n",
      "4. Load tasks from file\n",
      "5. Exit\n"
     ]
    }
   ],
   "source": [
    "def display_menu():\n",
    "    print(\"1. Add task\")\n",
    "    print(\"2. View tasks\")\n",
    "    print(\"3. Save tasks to file\")\n",
    "    print(\"4. Load tasks from file\")\n",
    "    print(\"5. Exit\")\n",
    "\n",
    "def add_task(tasks):\n",
    "    task = input(\"Enter a task: \")\n",
    "    tasks.append(task)\n",
    "    print(\"Task added successfully!\")\n",
    "\n",
    "def view_tasks(tasks):\n",
    "    if not tasks:\n",
    "        print(\"No tasks found.\")\n",
    "    else:\n",
    "        print(\"Tasks:\")\n",
    "        for index, task in enumerate(tasks):\n",
    "            print(f\"{index + 1}. {task}\")\n",
    "\n",
    "def save_tasks(tasks):\n",
    "    filename = input(\"Enter a filename to save tasks: \")\n",
    "    with open(filename, \"w\") as file:\n",
    "        for task in tasks:\n",
    "            file.write(task + \"\\n\")\n",
    "    print(\"Tasks saved successfully!\")\n",
    "\n",
    "def load_tasks(tasks):\n",
    "    filename = input(\"Enter a filename to load tasks from: \")\n",
    "    with open(filename, \"r\") as file:\n",
    "        tasks.extend(file.read().splitlines())\n",
    "    print(\"Tasks loaded successfully!\")\n",
    "\n",
    "def main():\n",
    "    tasks = []\n",
    "    while True:\n",
    "        display_menu()\n",
    "        choice = input(\"Enter your choice (1-5): \")\n",
    "        if choice == \"1\":\n",
    "            add_task(tasks)\n",
    "        elif choice == \"2\":\n",
    "            view_tasks(tasks)\n",
    "        elif choice == \"3\":\n",
    "            save_tasks(tasks)\n",
    "        elif choice == \"4\":\n",
    "            load_tasks(tasks)\n",
    "        elif choice == \"5\":\n",
    "            print(\"Exiting...\")\n",
    "            break\n",
    "        else:\n",
    "            print(\"Invalid choice. Please try again.\")\n",
    "\n",
    "if __name__ == \"__main__\":\n",
    "    main()\n"
   ]
  }
 ],
 "metadata": {
  "kernelspec": {
   "display_name": "Python 3",
   "language": "python",
   "name": "python3"
  },
  "language_info": {
   "codemirror_mode": {
    "name": "ipython",
    "version": 3
   },
   "file_extension": ".py",
   "mimetype": "text/x-python",
   "name": "python",
   "nbconvert_exporter": "python",
   "pygments_lexer": "ipython3",
   "version": "3.10.9"
  },
  "orig_nbformat": 4
 },
 "nbformat": 4,
 "nbformat_minor": 2
}
