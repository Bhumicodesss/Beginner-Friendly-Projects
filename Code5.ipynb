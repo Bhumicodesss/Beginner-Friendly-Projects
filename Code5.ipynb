{
 "cells": [
  {
   "cell_type": "code",
   "execution_count": 1,
   "metadata": {},
   "outputs": [
    {
     "name": "stdout",
     "output_type": "stream",
     "text": [
      "Welcome to the Guessing Game!\n",
      "I'm thinking of a number between 1 and 10.\n",
      "Too low!\n",
      "Too high!\n",
      "Congratulations! You guessed it right!\n"
     ]
    }
   ],
   "source": [
    "#Here's a short and fun Python code for beginners that demonstrates the concept of a guessing game. \n",
    "#The program will generate a random number between 1 and 10, and the user has to guess the number within three attempts. \n",
    "#Let's take a look:\n",
    "\n",
    "\n",
    "import random\n",
    "\n",
    "def guessing_game():\n",
    "    number = random.randint(1, 10)\n",
    "    attempts = 0\n",
    "\n",
    "    print(\"Welcome to the Guessing Game!\")\n",
    "    print(\"I'm thinking of a number between 1 and 10.\")\n",
    "\n",
    "    while attempts < 3:\n",
    "        guess = int(input(\"Take a guess: \"))\n",
    "\n",
    "        if guess == number:\n",
    "            print(\"Congratulations! You guessed it right!\")\n",
    "            return\n",
    "\n",
    "        if guess < number:\n",
    "            print(\"Too low!\")\n",
    "        else:\n",
    "            print(\"Too high!\")\n",
    "\n",
    "        attempts += 1\n",
    "\n",
    "    print(\"Sorry, you ran out of attempts!\")\n",
    "    print(\"The number I was thinking of was\", number)\n",
    "\n",
    "guessing_game()\n",
    "\n",
    "\n",
    "#To play the game, save this code in a Python file (e.g., guessing_game.py) and run it. \n",
    "# The program will prompt you to enter a number between 1 and 10. \n",
    "# It will provide feedback on whether the guess is too high or too low. \n",
    "# If you guess the correct number within three attempts, it will congratulate you. Otherwise, it will reveal the correct number.\n",
    "\n",
    "#This code introduces concepts like importing modules, generating random numbers, u\n",
    "# sing loops (while loop), conditional statements (if, else), and user input (input() function). \n",
    "# Have fun playing and learning with this code!"
   ]
  }
 ],
 "metadata": {
  "kernelspec": {
   "display_name": "Python 3",
   "language": "python",
   "name": "python3"
  },
  "language_info": {
   "codemirror_mode": {
    "name": "ipython",
    "version": 3
   },
   "file_extension": ".py",
   "mimetype": "text/x-python",
   "name": "python",
   "nbconvert_exporter": "python",
   "pygments_lexer": "ipython3",
   "version": "3.10.9"
  },
  "orig_nbformat": 4
 },
 "nbformat": 4,
 "nbformat_minor": 2
}
