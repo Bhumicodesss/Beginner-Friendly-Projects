{
 "cells": [
  {
   "cell_type": "code",
   "execution_count": 1,
   "metadata": {},
   "outputs": [
    {
     "ename": "NameError",
     "evalue": "name 'random' is not defined",
     "output_type": "error",
     "traceback": [
      "\u001b[1;31m---------------------------------------------------------------------------\u001b[0m",
      "\u001b[1;31mNameError\u001b[0m                                 Traceback (most recent call last)",
      "Cell \u001b[1;32mIn[1], line 28\u001b[0m\n\u001b[0;32m     24\u001b[0m       \u001b[39mprint\u001b[39m(\u001b[39m\"\u001b[39m\u001b[39mYou guessed the number correctly!\u001b[39m\u001b[39m\"\u001b[39m)\n\u001b[0;32m     27\u001b[0m \u001b[39mif\u001b[39;00m \u001b[39m__name__\u001b[39m \u001b[39m==\u001b[39m \u001b[39m\"\u001b[39m\u001b[39m__main__\u001b[39m\u001b[39m\"\u001b[39m:\n\u001b[1;32m---> 28\u001b[0m   guessing_game()\n",
      "Cell \u001b[1;32mIn[1], line 15\u001b[0m, in \u001b[0;36mguessing_game\u001b[1;34m()\u001b[0m\n\u001b[0;32m     10\u001b[0m \u001b[39mdef\u001b[39;00m \u001b[39mguessing_game\u001b[39m():\n\u001b[0;32m     11\u001b[0m   \u001b[39m\"\"\"\u001b[39;00m\n\u001b[0;32m     12\u001b[0m \u001b[39m  Plays a guessing game.\u001b[39;00m\n\u001b[0;32m     13\u001b[0m \u001b[39m  \"\"\"\u001b[39;00m\n\u001b[1;32m---> 15\u001b[0m   secret_number \u001b[39m=\u001b[39m random\u001b[39m.\u001b[39mrandint(\u001b[39m1\u001b[39m, \u001b[39m100\u001b[39m)\n\u001b[0;32m     16\u001b[0m   guess \u001b[39m=\u001b[39m \u001b[39mNone\u001b[39;00m\n\u001b[0;32m     17\u001b[0m   \u001b[39mwhile\u001b[39;00m guess \u001b[39m!=\u001b[39m secret_number:\n",
      "\u001b[1;31mNameError\u001b[0m: name 'random' is not defined"
     ]
    }
   ],
   "source": [
    "#A guessing game.\n",
    "\n",
    "#This is a simple guessing game that you can play with your friends. The game works like this:\n",
    "\n",
    "#One player thinks of a number between 1 and 100.\n",
    "#The other player then tries to guess the number.\n",
    "#The player who guesses the number correctly wins the game.\n",
    "#To implement this game in Python, you can use the following code:\n",
    "\n",
    "def guessing_game():\n",
    "  \"\"\"\n",
    "  Plays a guessing game.\n",
    "  \"\"\"\n",
    "\n",
    "  secret_number = random.randint(1, 100)\n",
    "  guess = None\n",
    "  while guess != secret_number:\n",
    "    guess = int(input(\"Guess a number between 1 and 100: \"))\n",
    "    if guess < secret_number:\n",
    "      print(\"Your guess is too low.\")\n",
    "    elif guess > secret_number:\n",
    "      print(\"Your guess is too high.\")\n",
    "    else:\n",
    "      print(\"You guessed the number correctly!\")\n",
    "\n",
    "\n",
    "if __name__ == \"__main__\":\n",
    "  guessing_game()\n",
    "\n",
    "\n",
    "\n",
    "#This code uses the following functions:\n",
    "\n",
    "#random.randint(): This function generates a random number between 1 and 100.\n",
    "#input(): This function prompts the user to enter a number.\n",
    "#if-else statement: This statement checks if the user's guess is correct.\n",
    "#This code is also well-commented and easy to understand. It is also modular, which makes it easy to reuse the code in other projects.\n",
    "\n",
    "#To run the code, you can save it as a Python file and then run it from the command line. For example, if you save the code as guessing_game.py, you can run it by typing the following command into the command line:\n",
    "\n",
    "#python guessing_game.py"
   ]
  }
 ],
 "metadata": {
  "kernelspec": {
   "display_name": "base",
   "language": "python",
   "name": "python3"
  },
  "language_info": {
   "codemirror_mode": {
    "name": "ipython",
    "version": 3
   },
   "file_extension": ".py",
   "mimetype": "text/x-python",
   "name": "python",
   "nbconvert_exporter": "python",
   "pygments_lexer": "ipython3",
   "version": "3.10.9"
  },
  "orig_nbformat": 4
 },
 "nbformat": 4,
 "nbformat_minor": 2
}
