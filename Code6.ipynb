{
 "cells": [
  {
   "cell_type": "code",
   "execution_count": 1,
   "metadata": {},
   "outputs": [
    {
     "name": "stdout",
     "output_type": "stream",
     "text": [
      "Welcome to the Calculator!\n",
      "\n",
      "Select an operation:\n",
      "1. Addition\n",
      "2. Subtraction\n",
      "3. Multiplication\n",
      "4. Division\n",
      "\n",
      "Result:\n",
      "12.0 * 33.0 = 396.0\n"
     ]
    }
   ],
   "source": [
    "#Here's a short and beginner-friendly Python code that introduces the concept of a simple calculator.\n",
    "#The program allows the user to perform basic arithmetic operations (addition, subtraction, multiplication, and division) on two numbers. \n",
    "#Take a look:\n",
    "\n",
    "\n",
    "def calculator():\n",
    "    print(\"Welcome to the Calculator!\")\n",
    "    num1 = float(input(\"Enter the first number: \"))\n",
    "    num2 = float(input(\"Enter the second number: \"))\n",
    "\n",
    "    print(\"\\nSelect an operation:\")\n",
    "    print(\"1. Addition\")\n",
    "    print(\"2. Subtraction\")\n",
    "    print(\"3. Multiplication\")\n",
    "    print(\"4. Division\")\n",
    "\n",
    "    choice = int(input(\"Enter your choice (1-4): \"))\n",
    "\n",
    "    if choice == 1:\n",
    "        result = num1 + num2\n",
    "        operation = \"+\"\n",
    "    elif choice == 2:\n",
    "        result = num1 - num2\n",
    "        operation = \"-\"\n",
    "    elif choice == 3:\n",
    "        result = num1 * num2\n",
    "        operation = \"*\"\n",
    "    elif choice == 4:\n",
    "        if num2 != 0:\n",
    "            result = num1 / num2\n",
    "            operation = \"/\"\n",
    "        else:\n",
    "            print(\"Error: Division by zero!\")\n",
    "            return\n",
    "    else:\n",
    "        print(\"Invalid choice!\")\n",
    "        return\n",
    "\n",
    "    print(\"\\nResult:\")\n",
    "    print(num1, operation, num2, \"=\", result)\n",
    "\n",
    "calculator()\n",
    "\n",
    "\n",
    "# To use the calculator, save the code in a Python file (e.g., calculator.py) and run it. \n",
    "# The program will ask for two numbers and the desired arithmetic operation. \n",
    "# It will then perform the calculation and display the result.\n",
    "# You can delete or add more options as per your requirements, too.\n",
    "# This code introduces concepts like user input (input() function), conditional statements (if, elif, else), mathematical operations, and using variables to store values and results.\n",
    "\n",
    "# Feel free to experiment with different numbers and operations to explore how the calculator works. Have fun learning!"
   ]
  }
 ],
 "metadata": {
  "kernelspec": {
   "display_name": "Python 3",
   "language": "python",
   "name": "python3"
  },
  "language_info": {
   "codemirror_mode": {
    "name": "ipython",
    "version": 3
   },
   "file_extension": ".py",
   "mimetype": "text/x-python",
   "name": "python",
   "nbconvert_exporter": "python",
   "pygments_lexer": "ipython3",
   "version": "3.10.9"
  },
  "orig_nbformat": 4
 },
 "nbformat": 4,
 "nbformat_minor": 2
}
